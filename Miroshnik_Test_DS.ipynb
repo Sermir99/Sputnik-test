{
 "cells": [
  {
   "cell_type": "code",
   "execution_count": 1,
   "id": "3c270a8b",
   "metadata": {},
   "outputs": [],
   "source": [
    "import numpy as np\n",
    "import matplotlib as mpl\n",
    "import matplotlib.pyplot as plt\n",
    "import pandas as pd\n",
    "import os\n",
    "import io\n",
    "from tqdm import tqdm\n",
    "\n",
    "import tensorflow as tf\n",
    "from tensorflow import keras\n",
    "from tensorflow.keras import datasets, layers, models"
   ]
  },
  {
   "cell_type": "code",
   "execution_count": 76,
   "id": "0c1aa004",
   "metadata": {},
   "outputs": [],
   "source": [
    "def sinus(a,w,x,b):\n",
    "    return a*np.sin(w*x)+b\n",
    "\n",
    "def quad(a,b,c,x):\n",
    "    return a*x**2 + b*x + c"
   ]
  },
  {
   "cell_type": "code",
   "execution_count": 3,
   "id": "b10ec8fb",
   "metadata": {},
   "outputs": [],
   "source": [
    "x = np.arange(200)/10.0 - 10"
   ]
  },
  {
   "cell_type": "code",
   "execution_count": 4,
   "id": "d6e21cdf",
   "metadata": {},
   "outputs": [],
   "source": [
    "y = sinus(1,1,x,1)"
   ]
  },
  {
   "cell_type": "code",
   "execution_count": 192,
   "id": "fcdf4dd8",
   "metadata": {},
   "outputs": [],
   "source": [
    "def examples_create(num):\n",
    "    dataset = pd.DataFrame(columns=['picture', 'num'])\n",
    "    \n",
    "    for i in tqdm(range(num)):\n",
    "        n = int(np.random.random(1)*6)+2\n",
    "\n",
    "        fig = plt.figure(figsize=(4, 4), dpi=32)\n",
    "#         flag = int(np.random.random(1)*2)\n",
    "        for i in range(n):\n",
    "\n",
    "            \n",
    "#             if flag:\n",
    "            y = sinus(np.random.random(1)*5, np.random.random(1)*5, x, np.random.random(1)*50-25)\n",
    "#             else:\n",
    "            y = quad(np.random.random(1)*5-2.5, np.random.random(1)*5, np.random.random(1)*20, x)\n",
    "\n",
    "            plt.plot(x,y)\n",
    "\n",
    "        io_buf = io.BytesIO()\n",
    "        fig.savefig(io_buf, format='raw', dpi=32)\n",
    "        io_buf.seek(0)\n",
    "        img_arr = np.reshape(np.frombuffer(io_buf.getvalue(), dtype=np.uint8),\n",
    "                             newshape=(int(fig.bbox.bounds[3]), int(fig.bbox.bounds[2]), -1))\n",
    "        io_buf.close()\n",
    "        plt.close()\n",
    "        \n",
    "        dataset.loc[-1] = [img_arr, n]\n",
    "        dataset.index += 1\n",
    "#     dataset = dataset.sort_index()\n",
    "    return dataset"
   ]
  },
  {
   "cell_type": "code",
   "execution_count": 78,
   "id": "a000d570",
   "metadata": {},
   "outputs": [
    {
     "name": "stderr",
     "output_type": "stream",
     "text": [
      "100%|██████████████████████████████████████████████████████████████████████████████| 3000/3000 [01:59<00:00, 25.20it/s]\n"
     ]
    }
   ],
   "source": [
    "dataset = examples_create(3000)"
   ]
  },
  {
   "cell_type": "code",
   "execution_count": 79,
   "id": "ad4766a2",
   "metadata": {},
   "outputs": [],
   "source": [
    "dataset.to_pickle('funcset_test.pkl')"
   ]
  },
  {
   "cell_type": "code",
   "execution_count": 6,
   "id": "5d3336f9",
   "metadata": {},
   "outputs": [],
   "source": []
  },
  {
   "cell_type": "code",
   "execution_count": 80,
   "id": "190c5e5c",
   "metadata": {},
   "outputs": [],
   "source": [
    "data = pd.read_pickle('funcset_dif.pkl')\n",
    "data = data.sample(frac=1)\n",
    "data = data.reset_index(drop=True)"
   ]
  },
  {
   "cell_type": "code",
   "execution_count": 82,
   "id": "879c83f0",
   "metadata": {},
   "outputs": [],
   "source": [
    "full_size = len(data)\n",
    "train_size = 2600"
   ]
  },
  {
   "cell_type": "code",
   "execution_count": 83,
   "id": "f8859a1d",
   "metadata": {},
   "outputs": [],
   "source": [
    "y_train = data.iloc[:train_size, 1]-1\n",
    "y_train = np.array(y_train).astype('uint8').reshape(train_size,1)"
   ]
  },
  {
   "cell_type": "code",
   "execution_count": 84,
   "id": "2a183ffd",
   "metadata": {},
   "outputs": [],
   "source": [
    "x_train = np.concatenate(([data.iloc[0,0]], [data.iloc[1,0]]), axis=0)\n",
    "\n",
    "for i in range(train_size-2):\n",
    "    x_train = np.concatenate((x_train, [data.iloc[i+2,0]]), axis=0)"
   ]
  },
  {
   "cell_type": "code",
   "execution_count": 85,
   "id": "8b3ab268",
   "metadata": {},
   "outputs": [],
   "source": [
    "y_val = data.iloc[train_size:, 1]-1\n",
    "y_val = np.array(y_val).astype('uint8').reshape(full_size-train_size,1)"
   ]
  },
  {
   "cell_type": "code",
   "execution_count": 86,
   "id": "4f4316d7",
   "metadata": {},
   "outputs": [],
   "source": [
    "x_val = np.concatenate(([data.iloc[train_size,0]], [data.iloc[train_size+1,0]]), axis=0)\n",
    "\n",
    "for i in range(full_size-train_size-2):\n",
    "    x_val = np.concatenate((x_val, [data.iloc[i+train_size+2,0]]), axis=0)"
   ]
  },
  {
   "cell_type": "code",
   "execution_count": 266,
   "id": "2f032e52",
   "metadata": {},
   "outputs": [],
   "source": [
    "model = models.Sequential()\n",
    "model.add(layers.Conv2D(8, (3, 3), activation='relu', input_shape=(128, 128, 4)))\n",
    "model.add(layers.MaxPooling2D((2, 2)))\n",
    "model.add(layers.BatchNormalization())\n",
    "model.add(layers.Conv2D(16, (3, 3), activation='relu'))\n",
    "model.add(layers.MaxPooling2D((2, 2)))\n",
    "model.add(layers.BatchNormalization())\n",
    "model.add(layers.Conv2D(32, (3, 3), activation='relu'))\n",
    "model.add(layers.MaxPooling2D((2, 2)))\n",
    "model.add(layers.BatchNormalization())\n",
    "model.add(layers.Conv2D(64, (3, 3), activation='relu'))\n",
    "model.add(layers.MaxPooling2D((2, 2)))\n",
    "model.add(layers.BatchNormalization())\n",
    "model.add(layers.Conv2D(128, (3, 3), activation='relu'))\n",
    "model.add(layers.MaxPooling2D((2, 2)))\n",
    "model.add(layers.BatchNormalization())\n",
    "model.add(layers.Flatten())\n",
    "model.add(layers.Dense(256, activation='relu'))\n",
    "model.add(layers.BatchNormalization())\n",
    "model.add(layers.Dense(64, activation='relu'))\n",
    "model.add(layers.BatchNormalization())\n",
    "model.add(layers.Dense(16, activation='relu'))\n",
    "model.add(layers.Dense(7, activation='softmax'))"
   ]
  },
  {
   "cell_type": "code",
   "execution_count": 267,
   "id": "1c00f2eb",
   "metadata": {},
   "outputs": [
    {
     "name": "stdout",
     "output_type": "stream",
     "text": [
      "Model: \"sequential_60\"\n",
      "_________________________________________________________________\n",
      " Layer (type)                Output Shape              Param #   \n",
      "=================================================================\n",
      " conv2d_204 (Conv2D)         (None, 126, 126, 8)       296       \n",
      "                                                                 \n",
      " max_pooling2d_198 (MaxPooli  (None, 63, 63, 8)        0         \n",
      " ng2D)                                                           \n",
      "                                                                 \n",
      " batch_normalization_255 (Ba  (None, 63, 63, 8)        32        \n",
      " tchNormalization)                                               \n",
      "                                                                 \n",
      " conv2d_205 (Conv2D)         (None, 61, 61, 16)        1168      \n",
      "                                                                 \n",
      " max_pooling2d_199 (MaxPooli  (None, 30, 30, 16)       0         \n",
      " ng2D)                                                           \n",
      "                                                                 \n",
      " batch_normalization_256 (Ba  (None, 30, 30, 16)       64        \n",
      " tchNormalization)                                               \n",
      "                                                                 \n",
      " conv2d_206 (Conv2D)         (None, 28, 28, 32)        4640      \n",
      "                                                                 \n",
      " max_pooling2d_200 (MaxPooli  (None, 14, 14, 32)       0         \n",
      " ng2D)                                                           \n",
      "                                                                 \n",
      " batch_normalization_257 (Ba  (None, 14, 14, 32)       128       \n",
      " tchNormalization)                                               \n",
      "                                                                 \n",
      " conv2d_207 (Conv2D)         (None, 12, 12, 64)        18496     \n",
      "                                                                 \n",
      " max_pooling2d_201 (MaxPooli  (None, 6, 6, 64)         0         \n",
      " ng2D)                                                           \n",
      "                                                                 \n",
      " batch_normalization_258 (Ba  (None, 6, 6, 64)         256       \n",
      " tchNormalization)                                               \n",
      "                                                                 \n",
      " conv2d_208 (Conv2D)         (None, 4, 4, 128)         73856     \n",
      "                                                                 \n",
      " max_pooling2d_202 (MaxPooli  (None, 2, 2, 128)        0         \n",
      " ng2D)                                                           \n",
      "                                                                 \n",
      " batch_normalization_259 (Ba  (None, 2, 2, 128)        512       \n",
      " tchNormalization)                                               \n",
      "                                                                 \n",
      " flatten_59 (Flatten)        (None, 512)               0         \n",
      "                                                                 \n",
      " dense_184 (Dense)           (None, 256)               131328    \n",
      "                                                                 \n",
      " batch_normalization_260 (Ba  (None, 256)              1024      \n",
      " tchNormalization)                                               \n",
      "                                                                 \n",
      " dense_185 (Dense)           (None, 64)                16448     \n",
      "                                                                 \n",
      " batch_normalization_261 (Ba  (None, 64)               256       \n",
      " tchNormalization)                                               \n",
      "                                                                 \n",
      " dense_186 (Dense)           (None, 16)                1040      \n",
      "                                                                 \n",
      " dense_187 (Dense)           (None, 7)                 119       \n",
      "                                                                 \n",
      "=================================================================\n",
      "Total params: 249,663\n",
      "Trainable params: 248,527\n",
      "Non-trainable params: 1,136\n",
      "_________________________________________________________________\n"
     ]
    }
   ],
   "source": [
    "model.summary()"
   ]
  },
  {
   "cell_type": "code",
   "execution_count": 270,
   "id": "cb999c77",
   "metadata": {},
   "outputs": [
    {
     "name": "stdout",
     "output_type": "stream",
     "text": [
      "Epoch 1/20\n",
      "100/100 [==============================] - 13s 108ms/step - loss: 0.1178 - accuracy: 0.9560 - val_loss: 0.8182 - val_accuracy: 0.7900\n",
      "Epoch 2/20\n",
      "100/100 [==============================] - 11s 105ms/step - loss: 0.0613 - accuracy: 0.9790 - val_loss: 2.3822 - val_accuracy: 0.5600\n",
      "Epoch 3/20\n",
      "100/100 [==============================] - 11s 106ms/step - loss: 0.0848 - accuracy: 0.9715 - val_loss: 2.8154 - val_accuracy: 0.4475\n",
      "Epoch 4/20\n",
      "100/100 [==============================] - 10s 105ms/step - loss: 0.1157 - accuracy: 0.9635 - val_loss: 4.0696 - val_accuracy: 0.3550\n",
      "Epoch 5/20\n",
      "100/100 [==============================] - 10s 105ms/step - loss: 0.0982 - accuracy: 0.9690 - val_loss: 1.8876 - val_accuracy: 0.6200\n",
      "Epoch 6/20\n",
      "100/100 [==============================] - 10s 105ms/step - loss: 0.0598 - accuracy: 0.9785 - val_loss: 6.7645 - val_accuracy: 0.1575\n",
      "Epoch 7/20\n",
      "100/100 [==============================] - 11s 105ms/step - loss: 0.0863 - accuracy: 0.9700 - val_loss: 0.9833 - val_accuracy: 0.7425\n",
      "Epoch 8/20\n",
      "100/100 [==============================] - 10s 104ms/step - loss: 0.0412 - accuracy: 0.9890 - val_loss: 0.4401 - val_accuracy: 0.8900\n",
      "Epoch 9/20\n",
      "100/100 [==============================] - 10s 104ms/step - loss: 0.0259 - accuracy: 0.9905 - val_loss: 2.0813 - val_accuracy: 0.6950\n",
      "Epoch 10/20\n",
      "100/100 [==============================] - 10s 104ms/step - loss: 0.0252 - accuracy: 0.9935 - val_loss: 0.7562 - val_accuracy: 0.8275\n",
      "Epoch 11/20\n",
      "100/100 [==============================] - 10s 104ms/step - loss: 0.0643 - accuracy: 0.9790 - val_loss: 5.6872 - val_accuracy: 0.3325\n",
      "Epoch 12/20\n",
      "100/100 [==============================] - 10s 104ms/step - loss: 0.0740 - accuracy: 0.9765 - val_loss: 4.1491 - val_accuracy: 0.5200\n",
      "Epoch 13/20\n",
      "100/100 [==============================] - 10s 104ms/step - loss: 0.0771 - accuracy: 0.9720 - val_loss: 1.4924 - val_accuracy: 0.6625\n",
      "Epoch 14/20\n",
      "100/100 [==============================] - 10s 105ms/step - loss: 0.0715 - accuracy: 0.9770 - val_loss: 1.1748 - val_accuracy: 0.7350\n",
      "Epoch 15/20\n",
      "100/100 [==============================] - 11s 106ms/step - loss: 0.0451 - accuracy: 0.9825 - val_loss: 0.8149 - val_accuracy: 0.7700\n",
      "Epoch 16/20\n",
      "100/100 [==============================] - 11s 106ms/step - loss: 0.0604 - accuracy: 0.9835 - val_loss: 0.9732 - val_accuracy: 0.7450\n",
      "Epoch 17/20\n",
      "100/100 [==============================] - 10s 104ms/step - loss: 0.0493 - accuracy: 0.9850 - val_loss: 0.7086 - val_accuracy: 0.8125\n",
      "Epoch 18/20\n",
      "100/100 [==============================] - 11s 106ms/step - loss: 0.0536 - accuracy: 0.9825 - val_loss: 2.1755 - val_accuracy: 0.5825\n",
      "Epoch 19/20\n",
      "100/100 [==============================] - 11s 105ms/step - loss: 0.0568 - accuracy: 0.9775 - val_loss: 0.7982 - val_accuracy: 0.7725\n",
      "Epoch 20/20\n",
      "100/100 [==============================] - 11s 105ms/step - loss: 0.0367 - accuracy: 0.9900 - val_loss: 1.4185 - val_accuracy: 0.7650\n"
     ]
    }
   ],
   "source": [
    "model.compile(optimizer='adam',\n",
    "              loss=tf.keras.losses.SparseCategoricalCrossentropy(from_logits=True),\n",
    "              metrics=['accuracy'])\n",
    "\n",
    "history = model.fit(x_train, y_train, batch_size=20, epochs=20, steps_per_epoch=100, \n",
    "                    validation_data=(x_val, y_val))"
   ]
  },
  {
   "cell_type": "code",
   "execution_count": 271,
   "id": "0f1e0c98",
   "metadata": {},
   "outputs": [
    {
     "name": "stdout",
     "output_type": "stream",
     "text": [
      "13/13 - 1s - loss: 1.4185 - accuracy: 0.7650 - 575ms/epoch - 44ms/step\n"
     ]
    },
    {
     "data": {
      "image/png": "[encoded data removed]",
      "text/plain": [
       "<Figure size 432x288 with 1 Axes>"
      ]
     },
     "metadata": {
      "needs_background": "light"
     },
     "output_type": "display_data"
    }
   ],
   "source": [
    "plt.plot(history.history['accuracy'], label='accuracy')\n",
    "plt.plot(history.history['val_accuracy'], label = 'val_accuracy')\n",
    "plt.xlabel('Epoch')\n",
    "plt.ylabel('Accuracy')\n",
    "plt.ylim([0, 1])\n",
    "plt.legend(loc='lower right')\n",
    "\n",
    "test_loss, test_acc = model.evaluate(x_val,  y_val, verbose=2)"
   ]
  },
  {
   "cell_type": "code",
   "execution_count": 95,
   "id": "571eb4ea",
   "metadata": {},
   "outputs": [
    {
     "name": "stdout",
     "output_type": "stream",
     "text": [
      "0.7099999785423279\n"
     ]
    }
   ],
   "source": [
    "print(test_acc)"
   ]
  },
  {
   "cell_type": "code",
   "execution_count": null,
   "id": "5df89dc9",
   "metadata": {},
   "outputs": [],
   "source": []
  }
 ],
 "metadata": {
  "kernelspec": {
   "display_name": "Python 3",
   "language": "python",
   "name": "python3"
  },
  "language_info": {
   "codemirror_mode": {
    "name": "ipython",
    "version": 3
   },
   "file_extension": ".py",
   "mimetype": "text/x-python",
   "name": "python",
   "nbconvert_exporter": "python",
   "pygments_lexer": "ipython3",
   "version": "3.8.6"
  }
 },
 "nbformat": 4,
 "nbformat_minor": 5
}
